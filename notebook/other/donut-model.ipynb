{
 "cells": [
  {
   "cell_type": "code",
   "execution_count": 1,
   "metadata": {},
   "outputs": [
    {
     "name": "stderr",
     "output_type": "stream",
     "text": [
      "/Users/macbookair/miniconda3/envs/llm/lib/python3.10/site-packages/tqdm/auto.py:21: TqdmWarning: IProgress not found. Please update jupyter and ipywidgets. See https://ipywidgets.readthedocs.io/en/stable/user_install.html\n",
      "  from .autonotebook import tqdm as notebook_tqdm\n"
     ]
    }
   ],
   "source": [
    "import math\n",
    "import os\n",
    "import re\n",
    "from typing import Any, List, Optional, Union\n",
    "\n",
    "import numpy as np\n",
    "import PIL\n",
    "import timm\n",
    "import torch\n",
    "import torch.nn as nn\n",
    "import torch.nn.functional as F\n",
    "from PIL import ImageOps\n",
    "from timm.data.constants import IMAGENET_DEFAULT_MEAN, IMAGENET_DEFAULT_STD\n",
    "from timm.models.swin_transformer import SwinTransformer\n",
    "from torchvision import transforms\n",
    "from torchvision.transforms.functional import resize, rotate\n",
    "from transformers import MBartConfig, MBartForCausalLM, XLMRobertaTokenizer\n",
    "from transformers.file_utils import ModelOutput\n",
    "from transformers.modeling_utils import PretrainedConfig, PreTrainedModel\n",
    "\n"
   ]
  },
  {
   "cell_type": "code",
   "execution_count": null,
   "metadata": {},
   "outputs": [],
   "source": [
    "class SwinEncoder(nn.Model):\n",
    "    r\"\"\"\n",
    "    Donut encoder based on SwinTransformer\n",
    "    Set the initial weights and configuration with a pretrained SwinTransformer and then\n",
    "    modify the detailed configurations as a Donut Encoder\n",
    "\n",
    "    Args:\n",
    "        input_size: Input image size (width, height)\n",
    "        align_long_axis: Whether to rotate image if height is greater than width\n",
    "        window_size: Window size(=patch size) of SwinTransformer\n",
    "        encoder_layer: Number of layers of SwinTransformer encoder\n",
    "        name_or_path: Name of a pretrained model name either registered in huggingface.co. or saved in local.\n",
    "                    otherwise, `swin_base_patch4_window12_384` will be set (using `timm`).\n",
    "    \"\"\""
   ]
  }
 ],
 "metadata": {
  "kernelspec": {
   "display_name": "llm",
   "language": "python",
   "name": "python3"
  },
  "language_info": {
   "codemirror_mode": {
    "name": "ipython",
    "version": 3
   },
   "file_extension": ".py",
   "mimetype": "text/x-python",
   "name": "python",
   "nbconvert_exporter": "python",
   "pygments_lexer": "ipython3",
   "version": "3.10.13"
  }
 },
 "nbformat": 4,
 "nbformat_minor": 2
}
