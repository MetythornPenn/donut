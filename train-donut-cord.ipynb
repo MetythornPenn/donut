{
 "cells": [
  {
   "cell_type": "markdown",
   "metadata": {},
   "source": [
    "https://www.philschmid.de/fine-tuning-donut#2-load-sroie-dataset"
   ]
  },
  {
   "cell_type": "code",
   "execution_count": 2,
   "metadata": {},
   "outputs": [],
   "source": [
    "# %%bash\n",
    "# # clone repository\n",
    "# git clone https://github.com/zzzDavid/ICDAR-2019-SROIE.git\n",
    "# # copy data\n",
    "# cp -r ICDAR-2019-SROIE/data ./\n",
    "# # clean up\n",
    "# rm -rf ICDAR-2019-SROIE\n",
    "# rm -rf data/box"
   ]
  },
  {
   "cell_type": "markdown",
   "metadata": {},
   "source": [
    "The metadata.json should look at the end similar to the example below."
   ]
  },
  {
   "cell_type": "code",
   "execution_count": 3,
   "metadata": {},
   "outputs": [
    {
     "data": {
      "text/plain": [
       "'\\n{\"file_name\": \"0001.png\", \"text\": \"This is a golden retriever playing with a ball\"}\\n{\"file_name\": \"0002.png\", \"text\": \"A german shepherd\"}\\n'"
      ]
     },
     "execution_count": 3,
     "metadata": {},
     "output_type": "execute_result"
    }
   ],
   "source": [
    "'''\n",
    "{\"file_name\": \"0001.png\", \"text\": \"This is a golden retriever playing with a ball\"}\n",
    "{\"file_name\": \"0002.png\", \"text\": \"A german shepherd\"}\n",
    "'''"
   ]
  },
  {
   "cell_type": "code",
   "execution_count": null,
   "metadata": {},
   "outputs": [],
   "source": [
    "import os\n",
    "import json \n",
    "from pathlib import Path\n",
    "import shutil\n",
    "\n",
    "# define paths \n",
    "base_path = Path(\"data\")\n",
    "metadata_path = base_path.joinpath(\"key\")\n",
    "image_path = base_path.joinpath(\"img\")\n",
    "# define metadata list \n",
    "metadata_list = []\n",
    "\n",
    "# parse metadata\n",
    "for file_name in metadata_path.glob(\"*.json\"):\n",
    "    with open(file_name, \"r\") as json_file:\n",
    "        # load json file\n",
    "        data = json.load(json_file)\n",
    "        # create \"text\" column with json string \n",
    "        text = json.dumps(data)\n",
    "        # add to metadata list if image exists\n",
    "        if image_path.joinpath()"
   ]
  }
 ],
 "metadata": {
  "kernelspec": {
   "display_name": "donut",
   "language": "python",
   "name": "python3"
  },
  "language_info": {
   "codemirror_mode": {
    "name": "ipython",
    "version": 3
   },
   "file_extension": ".py",
   "mimetype": "text/x-python",
   "name": "python",
   "nbconvert_exporter": "python",
   "pygments_lexer": "ipython3",
   "version": "3.10.14"
  }
 },
 "nbformat": 4,
 "nbformat_minor": 2
}
